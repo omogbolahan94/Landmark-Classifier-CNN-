{
 "cells": [
  {
   "cell_type": "markdown",
   "id": "18186fe9",
   "metadata": {},
   "source": [
    "# Convolutional Neural Networks\n",
    "\n",
    "## Project: Write an Algorithm for Landmark Classification\n",
    "\n",
    "### Install Prerequisites\n",
    "\n",
    "To run the app in the notebook environment, you must first install the required packages by executing the cell below. **Make sure to restart the kernel after running each cell.**\n",
    "\n",
    "> Note: Restarting the kernel ensures that all installed dependencies are properly loaded into the environment."
   ]
  },
  {
   "cell_type": "code",
   "execution_count": 2,
   "id": "e05a4721",
   "metadata": {},
   "outputs": [
    {
     "name": "stdout",
     "output_type": "stream",
     "text": [
      "Defaulting to user installation because normal site-packages is not writeable\n",
      "Collecting ipywidgets==7.6.5 (from -r requirements.txt (line 9))\n",
      "  Downloading ipywidgets-7.6.5-py2.py3-none-any.whl.metadata (1.9 kB)\n",
      "Collecting widgetsnbextension~=3.5.0 (from ipywidgets==7.6.5->-r requirements.txt (line 9))\n",
      "  Downloading widgetsnbextension-3.5.2-py2.py3-none-any.whl.metadata (1.3 kB)\n",
      "Downloading ipywidgets-7.6.5-py2.py3-none-any.whl (121 kB)\n",
      "   ━━━━━━━━━━━━━━━━━━━━━━━━━━━━━━━━━━━━━━━━ 121.8/121.8 kB 2.4 MB/s eta 0:00:00\n",
      "Downloading widgetsnbextension-3.5.2-py2.py3-none-any.whl (1.6 MB)\n",
      "   ━━━━━━━━━━━━━━━━━━━━━━━━━━━━━━━━━━━━━━━━ 1.6/1.6 MB 25.5 MB/s eta 0:00:00\n",
      "Installing collected packages: widgetsnbextension, ipywidgets\n",
      "  Attempting uninstall: widgetsnbextension\n",
      "    Found existing installation: widgetsnbextension 4.0.14\n",
      "    Uninstalling widgetsnbextension-4.0.14:\n",
      "      Successfully uninstalled widgetsnbextension-4.0.14\n",
      "  Attempting uninstall: ipywidgets\n",
      "    Found existing installation: ipywidgets 8.1.7\n",
      "    Uninstalling ipywidgets-8.1.7:\n",
      "      Successfully uninstalled ipywidgets-8.1.7\n",
      "Successfully installed ipywidgets-7.6.5 widgetsnbextension-3.5.2\n",
      "\u001b[33mWARNING: Running pip as the 'root' user can result in broken permissions and conflicting behaviour with the system package manager. It is recommended to use a virtual environment instead: https://pip.pypa.io/warnings/venv\u001b[0m\u001b[33m\n",
      "\u001b[0mDefaulting to user installation because normal site-packages is not writeable\n",
      "Requirement already satisfied: pip in /root/.local/lib/python3.7/site-packages (24.0)\n",
      "\u001b[33mWARNING: Running pip as the 'root' user can result in broken permissions and conflicting behaviour with the system package manager. It is recommended to use a virtual environment instead: https://pip.pypa.io/warnings/venv\u001b[0m\u001b[33m\n",
      "\u001b[0mDefaulting to user installation because normal site-packages is not writeable\n",
      "Requirement already satisfied: ipywidgets in /root/.local/lib/python3.7/site-packages (7.6.5)\n",
      "Collecting ipywidgets\n",
      "  Using cached ipywidgets-8.1.7-py3-none-any.whl.metadata (2.4 kB)\n",
      "Requirement already satisfied: comm>=0.1.3 in /root/.local/lib/python3.7/site-packages (from ipywidgets) (0.1.4)\n",
      "Requirement already satisfied: ipython>=6.1.0 in /opt/conda/lib/python3.7/site-packages (from ipywidgets) (7.13.0)\n",
      "Requirement already satisfied: traitlets>=4.3.1 in /opt/conda/lib/python3.7/site-packages (from ipywidgets) (4.3.3)\n",
      "Collecting widgetsnbextension~=4.0.14 (from ipywidgets)\n",
      "  Using cached widgetsnbextension-4.0.14-py3-none-any.whl.metadata (1.6 kB)\n",
      "Requirement already satisfied: jupyterlab_widgets~=3.0.15 in /root/.local/lib/python3.7/site-packages (from ipywidgets) (3.0.15)\n",
      "Requirement already satisfied: setuptools>=18.5 in /opt/conda/lib/python3.7/site-packages (from ipython>=6.1.0->ipywidgets) (45.2.0.post20200209)\n",
      "Requirement already satisfied: jedi>=0.10 in /opt/conda/lib/python3.7/site-packages (from ipython>=6.1.0->ipywidgets) (0.16.0)\n",
      "Requirement already satisfied: decorator in /opt/conda/lib/python3.7/site-packages (from ipython>=6.1.0->ipywidgets) (4.4.2)\n",
      "Requirement already satisfied: pickleshare in /opt/conda/lib/python3.7/site-packages (from ipython>=6.1.0->ipywidgets) (0.7.5)\n",
      "Requirement already satisfied: prompt-toolkit!=3.0.0,!=3.0.1,<3.1.0,>=2.0.0 in /opt/conda/lib/python3.7/site-packages (from ipython>=6.1.0->ipywidgets) (3.0.3)\n",
      "Requirement already satisfied: pygments in /opt/conda/lib/python3.7/site-packages (from ipython>=6.1.0->ipywidgets) (2.5.2)\n",
      "Requirement already satisfied: backcall in /opt/conda/lib/python3.7/site-packages (from ipython>=6.1.0->ipywidgets) (0.1.0)\n",
      "Requirement already satisfied: pexpect in /opt/conda/lib/python3.7/site-packages (from ipython>=6.1.0->ipywidgets) (4.8.0)\n",
      "Requirement already satisfied: ipython-genutils in /opt/conda/lib/python3.7/site-packages (from traitlets>=4.3.1->ipywidgets) (0.2.0)\n",
      "Requirement already satisfied: six in /opt/conda/lib/python3.7/site-packages (from traitlets>=4.3.1->ipywidgets) (1.16.0)\n",
      "Requirement already satisfied: parso>=0.5.2 in /opt/conda/lib/python3.7/site-packages (from jedi>=0.10->ipython>=6.1.0->ipywidgets) (0.6.1)\n",
      "Requirement already satisfied: wcwidth in /opt/conda/lib/python3.7/site-packages (from prompt-toolkit!=3.0.0,!=3.0.1,<3.1.0,>=2.0.0->ipython>=6.1.0->ipywidgets) (0.1.8)\n",
      "Requirement already satisfied: ptyprocess>=0.5 in /opt/conda/lib/python3.7/site-packages (from pexpect->ipython>=6.1.0->ipywidgets) (0.6.0)\n",
      "Using cached ipywidgets-8.1.7-py3-none-any.whl (139 kB)\n",
      "Using cached widgetsnbextension-4.0.14-py3-none-any.whl (2.2 MB)\n",
      "Installing collected packages: widgetsnbextension, ipywidgets\n",
      "  Attempting uninstall: widgetsnbextension\n",
      "    Found existing installation: widgetsnbextension 3.5.2\n",
      "    Uninstalling widgetsnbextension-3.5.2:\n",
      "      Successfully uninstalled widgetsnbextension-3.5.2\n",
      "  Attempting uninstall: ipywidgets\n",
      "    Found existing installation: ipywidgets 7.6.5\n",
      "    Uninstalling ipywidgets-7.6.5:\n",
      "      Successfully uninstalled ipywidgets-7.6.5\n",
      "Successfully installed ipywidgets-8.1.7 widgetsnbextension-4.0.14\n",
      "\u001b[33mWARNING: Running pip as the 'root' user can result in broken permissions and conflicting behaviour with the system package manager. It is recommended to use a virtual environment instead: https://pip.pypa.io/warnings/venv\u001b[0m\u001b[33m\n",
      "\u001b[0mEnabling notebook extension jupyter-js-widgets/extension...\n",
      "      - Validating: \u001b[32mOK\u001b[0m\n"
     ]
    }
   ],
   "source": [
    "# Please restart the notebook kernel after running this cell.\n",
    "!pip install -r requirements.txt | grep -v \"already satisfied\"\n",
    "\n",
    "!python -m pip install --upgrade pip\n",
    "!pip install --upgrade ipywidgets\n",
    "!jupyter nbextension enable --py widgetsnbextension"
   ]
  },
  {
   "cell_type": "markdown",
   "id": "dc91f096",
   "metadata": {},
   "source": [
    "### A Simple App\n",
    "\n",
    "In this notebook we build a very simple app that uses our exported model.\n",
    "\n",
    "> <img src=\"static_images/icons/noun-info-2558213.png\" alt=\"?\" style=\"width:25px\"/> Note how we are not importing anything from our source code (we do not use any module from the ``src`` directory). This is because the exported model, differently from the model weights, is a standalone serialization of our model and therefore it does not need anything else. You can ship that file to anybody, and as long as they can import ``torch``, they will be able to use your model. This is very important for releasing pytorch models to production.\n",
    "\n",
    "### Test Your App\n",
    "Go to a search engine for images (like Google Images) and search for images of some of the landmarks, like the Eiffel Tower, the Golden Gate Bridge, Machu Picchu and so on. Save a few examples locally, then upload them to your app to see how your model behaves!\n",
    "\n",
    "The app will show the top 5 classes that the model think are most relevant for the picture you have uploaded"
   ]
  },
  {
   "cell_type": "code",
   "execution_count": 13,
   "id": "2c7ee765",
   "metadata": {},
   "outputs": [
    {
     "data": {
      "application/vnd.jupyter.widget-view+json": {
       "model_id": "17c8084a7ee340a985e0b79e7f8fa334",
       "version_major": 2,
       "version_minor": 0
      },
      "text/plain": [
       "VBox(children=(Label(value='Please upload a picture of a landmark'), FileUpload(value=(), description='Upload'…"
      ]
     },
     "metadata": {},
     "output_type": "display_data"
    }
   ],
   "source": [
    "from ipywidgets import VBox, Button, FileUpload, Output, Label\n",
    "from PIL import Image\n",
    "from IPython.display import display\n",
    "import io\n",
    "import numpy as np\n",
    "import torchvision\n",
    "import torchvision.transforms as T\n",
    "import torch\n",
    "from src.transfer import get_model_transfer_learning\n",
    "\n",
    "# Decide which model you want to use among the ones exported\n",
    "learn_inf = torch.jit.load(\"checkpoints/transfer_exported.pt\")\n",
    "learn_inf.eval()\n",
    "\n",
    "\n",
    "def on_click_classify(change):\n",
    "\n",
    "    # Load image that has been uploaded\n",
    "#     fn = io.BytesIO(btn_upload.value[-1])\n",
    "\n",
    "#     img = Image.open(fn)\n",
    "#     img.load()\n",
    "    \n",
    "    uploaded_file = next(iter(btn_upload.value))  # Fix: value is a tuple\n",
    "    fn = io.BytesIO(uploaded_file['content'])\n",
    "    img = Image.open(fn)\n",
    "    img.load()\n",
    "\n",
    "    # Let's clear the previous output (if any)\n",
    "    out_pl.clear_output()\n",
    "\n",
    "    # Display the image\n",
    "    with out_pl:\n",
    "\n",
    "        ratio = img.size[0] / img.size[1]\n",
    "        c = img.copy()\n",
    "        c.thumbnail([ratio * 200, 200])\n",
    "        display(c)\n",
    "\n",
    "    # Transform to tensor\n",
    "    timg = T.ToTensor()(img).unsqueeze_(0)\n",
    "\n",
    "    # Calling the model\n",
    "    softmax = learn_inf(timg).data.cpu().numpy().squeeze()\n",
    "    \n",
    "    # Get the indexes of the classes ordered by softmax\n",
    "    # (larger first)\n",
    "    idxs = np.argsort(softmax)[::-1]\n",
    "    \n",
    "    # Loop over the classes with the largest softmax\n",
    "    for i in range(5):\n",
    "        # Get softmax value\n",
    "        p = softmax[idxs[i]]\n",
    "    \n",
    "        # Get class name\n",
    "        landmark_name = learn_inf.class_names[idxs[i]]\n",
    "        \n",
    "        labels[i].value = f\"{landmark_name} (prob: {p:.2f})\"\n",
    "\n",
    "\n",
    "# Putting back btn_upload to a widget for next cell\n",
    "btn_upload = FileUpload()\n",
    "\n",
    "btn_run = Button(description=\"Classify\")\n",
    "btn_run.on_click(on_click_classify)\n",
    "\n",
    "labels = []\n",
    "for _ in range(5):\n",
    "    labels.append(Label())\n",
    "\n",
    "out_pl = Output()\n",
    "out_pl.clear_output()\n",
    "\n",
    "wgs = [Label(\"Please upload a picture of a landmark\"), btn_upload, btn_run, out_pl]\n",
    "wgs.extend(labels)\n",
    "\n",
    "display(VBox(wgs))"
   ]
  },
  {
   "cell_type": "markdown",
   "id": "4c521035",
   "metadata": {},
   "source": [
    "### Output"
   ]
  },
  {
   "cell_type": "code",
   "execution_count": 3,
   "id": "3013dc8f",
   "metadata": {},
   "outputs": [
    {
     "name": "stdout",
     "output_type": "stream",
     "text": [
      "/9j/4AAQSkZJRgABAQEAYABgAAD/4QL+RXhpZgAATU0AKgAAAAgABAE7AAIAAAARAAABSodpAAQAAAABAAABXJydAAEAAAAiAAAC1OocAAcAAAEMAAAAPgAAAAAc6gAAAAEAAAAAAAAAAAAAAAAAAAAAAAAAAAAAAAAAAAAAAAAAAAAAAAAAAAAAAAAAAAAAAAAAAAAA...\n"
     ]
    }
   ],
   "source": [
    "import base64\n",
    "\n",
    "with open(\"app_classifier_output.JPG\", \"rb\") as img_file:\n",
    "    b64_string = base64.b64encode(img_file.read()).decode('utf-8')\n",
    "\n",
    "# Print base64 image string for use in Markdown\n",
    "print(b64_string[:200] + \"...\")"
   ]
  },
  {
   "cell_type": "code",
   "execution_count": 10,
   "id": "8789cd27",
   "metadata": {},
   "outputs": [],
   "source": [
    "# Generate the full markdown image tag\n",
    "markdown_img = f'<img src=\"data:image/jpeg;base64,{b64_string}\" />'"
   ]
  },
  {
   "cell_type": "markdown",
   "id": "6be8fd11",
   "metadata": {},
   "source": [
    "<img src=\"data:image/jpeg;base64,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\" />"
   ]
  },
  {
   "cell_type": "markdown",
   "id": "c3c65c84",
   "metadata": {},
   "source": [
    "## (Optional) Standalone App or Web App\n",
    "\n",
    "You can run this notebook as a standalone app on your computer by following these steps:\n",
    "\n",
    "1. Download this notebook in a directory on your machine\n",
    "2. Download the model export (for example, ``checkpoints/transfer_exported.pt``) in a subdirectory called ``checkpoints`` within the directory where you save the app.ipynb notebook\n",
    "3. Install voila if you don't have it already (``pip install voila``)\n",
    "4. Run your app: ``voila app.ipynb --show_tracebacks=True``\n",
    "5. Customize your notebook to make your app prettier and rerun voila\n",
    "\n",
    "You can also deploy this app as a website using Binder: https://voila.readthedocs.io/en/stable/deploy.html#deployment-on-binder"
   ]
  },
  {
   "cell_type": "markdown",
   "id": "f0eced1d",
   "metadata": {},
   "source": [
    "# Create Your Submission Archive\n",
    "\n",
    "Now that you are done with your project, please run the following cell. It will generate a file containing all the code you have written, as well as the notebooks. Please submit that file to complete your project"
   ]
  },
  {
   "cell_type": "code",
   "execution_count": 11,
   "id": "142616d3",
   "metadata": {},
   "outputs": [
    {
     "name": "stdout",
     "output_type": "stream",
     "text": [
      "executing: jupyter nbconvert --to html cnn_from_scratch.ipynb\n",
      "[NbConvertApp] Converting notebook cnn_from_scratch.ipynb to html\n",
      "[NbConvertApp] Writing 987304 bytes to cnn_from_scratch.html\n",
      "executing: jupyter nbconvert --to html transfer_learning.ipynb\n",
      "[NbConvertApp] Converting notebook transfer_learning.ipynb to html\n",
      "[NbConvertApp] Writing 410759 bytes to transfer_learning.html\n",
      "executing: jupyter nbconvert --to html app.ipynb\n",
      "[NbConvertApp] Converting notebook app.ipynb to html\n",
      "[NbConvertApp] Writing 325740 bytes to app.html\n",
      "Adding files to submission_2025-07-22T08h36m.tar.gz\n",
      "src/train.py\n",
      "src/transfer.py\n",
      "src/data.py\n",
      "src/predictor.py\n",
      "src/optimization.py\n",
      "src/create_submit_pkg.py\n",
      "src/__init__.py\n",
      "src/model.py\n",
      "src/helpers.py\n",
      "cnn_from_scratch.ipynb\n",
      "transfer_learning.ipynb\n",
      "app.ipynb\n",
      "app.html\n",
      "cnn_from_scratch.html\n",
      "transfer_learning.html\n",
      "\n",
      "----------------------------------------------------------------\n",
      "Done. Please submit the file submission_2025-07-22T08h36m.tar.gz\n",
      "----------------------------------------------------------------\n"
     ]
    }
   ],
   "source": [
    "!python src/create_submit_pkg.py"
   ]
  },
  {
   "cell_type": "code",
   "execution_count": null,
   "id": "b09d9861",
   "metadata": {},
   "outputs": [],
   "source": []
  }
 ],
 "metadata": {
  "kernelspec": {
   "display_name": "Python 3 (ipykernel)",
   "language": "python",
   "name": "python3"
  },
  "language_info": {
   "codemirror_mode": {
    "name": "ipython",
    "version": 3
   },
   "file_extension": ".py",
   "mimetype": "text/x-python",
   "name": "python",
   "nbconvert_exporter": "python",
   "pygments_lexer": "ipython3",
   "version": "3.12.4"
  },
  "widgets": {
   "application/vnd.jupyter.widget-state+json": {
    "state": {},
    "version_major": 2,
    "version_minor": 0
   }
  }
 },
 "nbformat": 4,
 "nbformat_minor": 5
}
